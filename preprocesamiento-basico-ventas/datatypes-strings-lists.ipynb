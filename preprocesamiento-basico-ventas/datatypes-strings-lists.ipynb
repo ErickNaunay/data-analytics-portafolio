{
 "cells": [
  {
   "cell_type": "markdown",
   "metadata": {
    "id": "UCjlyTyyJm9R"
   },
   "source": [
    "\n",
    "\n",
    "As a member of the analytical team, the first step is to assess the quality of a sample of collected data and prepare it for future analysis. Later on, in the second part of this project in the 2nd sprint, you will further develop your skills and make your first complete analysis, answering to the client's needs."
   ]
  },
  {
   "cell_type": "markdown",
   "metadata": {
    "id": "EMQlsEYlxGET"
   },
   "source": [
    "This is the data the client provided us. It is formatted as a python list, with the following column data:\n",
    "\n",
    "- **user_id:** Unique identifier for each user.\n",
    "- **user_name:** The name of the user.\n",
    "- **user_age:** Age of the user.\n",
    "- **fav_categories:** Categories of items purchased by the user, such as 'ELECTRONICS', 'SPORT', 'BOOKS', etc.\n",
    "- **total_spendings:** List of integers indicating the total the amount spent in each of their favorite categories."
   ]
  },
  {
   "cell_type": "code",
   "execution_count": null,
   "metadata": {
    "id": "LfBCH4crxLOt"
   },
   "outputs": [],
   "source": [
    "users = [\n",
    "    ['32415', ' mike_reed ', 32.0, ['ELECTRONICS', 'SPORT', 'BOOKS'], [894, 213, 173]],\n",
    "    ['31980', 'kate morgan', 24.0, ['CLOTHES', 'BOOKS'], [439, 390]],\n",
    "    ['32156', ' john doe ', 37.0, ['ELECTRONICS', 'HOME', 'FOOD'], [459, 120, 99]],\n",
    "    ['32761', 'SAMANTHA SMITH', 29.0, ['CLOTHES', 'ELECTRONICS', 'BEAUTY'], [299, 679, 85]],\n",
    "    ['32984', 'David White', 41.0, ['BOOKS', 'HOME', 'SPORT'], [234, 329, 243]],\n",
    "    ['33001', 'emily brown', 26.0, ['BEAUTY', 'HOME', 'FOOD'], [213, 659, 79]],\n",
    "    ['33767', ' Maria Garcia', 33.0, ['CLOTHES', 'FOOD', 'BEAUTY'], [499, 189, 63]],\n",
    "    ['33912', 'JOSE MARTINEZ', 22.0, ['SPORT', 'ELECTRONICS', 'HOME'], [259, 549, 109]],\n",
    "    ['34009', 'lisa wilson ', 35.0, ['HOME', 'BOOKS', 'CLOTHES'], [329, 189, 329]],\n",
    "    ['34278', 'James Lee', 28.0, ['BEAUTY', 'CLOTHES', 'ELECTRONICS'], [189, 299, 579]],\n",
    "]\n"
   ]
  },
  {
   "cell_type": "markdown",
   "metadata": {
    "id": "QJa5xuF-Jm9T"
   },
   "source": [
    "# Step 1\n",
    "\n",
    "Store 1 aims to ensure consistency in data collection. As part of this effort, the quality of the data collected on users needs to be evaluated. You have been asked to review the collected data and propose changes. Below you will see data about a particular user. Please review the data and identify any potential issues."
   ]
  },
  {
   "cell_type": "code",
   "execution_count": null,
   "metadata": {
    "id": "kvRIX_jfJm9U"
   },
   "outputs": [],
   "source": [
    "user_id = '32415'\n",
    "user_name = ' mike_reed '\n",
    "user_age = 32.0\n",
    "fav_categories = ['ELECTRONICS', 'SPORT', 'BOOKS']"
   ]
  },
  {
   "cell_type": "markdown",
   "metadata": {
    "id": "Fo28PV6wJm9U"
   },
   "source": [
    "**Options:**\n",
    "\n",
    "1. The data type for `user_id` should be changed from a string to an integer.\n",
    "    \n",
    "2. The `user_name` variable contains a string that has unnecessary spacing and an underscore between the first and last names.\n",
    "    \n",
    "3. The data type of `user_age` is correct and there is no need to convert it.\n",
    "    \n",
    "4. The `fav_categories` list contains strings in upper case. We should not convert the values in the list to lower case instead."
   ]
  },
  {
   "cell_type": "markdown",
   "metadata": {
    "id": "uFd9fGjzJm9V"
   },
   "source": [
    "For each of the options, write in the markdown cell below whether you have identified it as a real issue in the data or not. Justify your reasoning. For example, if you believe the first option is correct, write it down and explain why you think it is correct."
   ]
  },
  {
   "cell_type": "markdown",
   "metadata": {
    "id": "jBGXAwBkJm9V"
   },
   "source": [
    "**Write your answer and explain your reasoning:**"
   ]
  },
  {
   "cell_type": "markdown",
   "metadata": {
    "id": "aZ40WbF5Jm9V"
   },
   "source": [
    "# Step 2\n",
    "\n",
    "Let's implement the changes we identified. First, we want to correct the issues with the `user_name` variable. As we found, it has unnecessary spaces and an underscore as a separator between the first and the last name. Your goal is to remove the spaces and then replace the underscore with the space."
   ]
  },
  {
   "cell_type": "code",
   "execution_count": null,
   "metadata": {
    "colab": {
     "base_uri": "https://localhost:8080/"
    },
    "id": "_uOLKjF8Jm9V",
    "outputId": "630b0663-620c-44a2-f0d1-4b7b4a592b0b"
   },
   "outputs": [
    {
     "name": "stdout",
     "output_type": "stream",
     "text": [
      "mike reed\n"
     ]
    }
   ],
   "source": [
    "user_name = ' mike_reed '\n",
    "user_name = user_name.strip()\n",
    "user_name = user_name.replace('_', ' ')\n",
    "\n",
    "print(user_name)"
   ]
  },
  {
   "cell_type": "markdown",
   "metadata": {
    "id": "IBQlePCsJm9V"
   },
   "source": [
    "# Step 3\n",
    "\n",
    "Next, we need to split the updated `user_name` into two substrings to obtain a list that contains two values: the string for the first name and the string for the last name."
   ]
  },
  {
   "cell_type": "code",
   "execution_count": null,
   "metadata": {
    "colab": {
     "base_uri": "https://localhost:8080/"
    },
    "id": "0mYAxetNJm9W",
    "outputId": "2128b910-489c-4939-cb24-6d0f6d45e877"
   },
   "outputs": [
    {
     "name": "stdout",
     "output_type": "stream",
     "text": [
      "['mike', 'reed']\n"
     ]
    }
   ],
   "source": [
    "user_name = 'mike reed'\n",
    "name_split = user_name.split()\n",
    "\n",
    "print(name_split)"
   ]
  },
  {
   "cell_type": "markdown",
   "metadata": {
    "id": "bcNebWVsJm9W"
   },
   "source": [
    "# Step 4\n",
    "\n",
    "Great! Now we want to work with the `user_age` variable. As we mentioned earlier, it has an incorrect data type. Let's fix this issue by transforming the data type and print the final result."
   ]
  },
  {
   "cell_type": "code",
   "execution_count": null,
   "metadata": {
    "colab": {
     "base_uri": "https://localhost:8080/"
    },
    "id": "g0FZSll4Jm9W",
    "outputId": "8b977bc7-e315-4a27-97ad-645570ed60bc"
   },
   "outputs": [
    {
     "name": "stdout",
     "output_type": "stream",
     "text": [
      "32\n"
     ]
    }
   ],
   "source": [
    "user_age = 32.0\n",
    "user_age = int(user_age)\n",
    "\n",
    "print(user_age)"
   ]
  },
  {
   "cell_type": "markdown",
   "metadata": {
    "id": "U0bvLZOVJm9W"
   },
   "source": [
    "# Step 5\n",
    "\n",
    "As we all know, data is not always perfect. We have to consider scenarios where the `user_age` value cannot be converted to an integer. To prevent our system from crashing, we must take steps in advance.\n",
    "\n",
    "Write a code that attempts to convert the `user_age` variable to an integer and assigns the transformed value to `user_age_int`. If the attempt fails, we print a message, asking a user to provide their age as a numerical value with the message: `Please provide your age as a numerical value.`"
   ]
  },
  {
   "cell_type": "code",
   "execution_count": null,
   "metadata": {
    "colab": {
     "base_uri": "https://localhost:8080/"
    },
    "id": "bKxiA-voJm9W",
    "outputId": "829a78ce-a7a5-4195-c424-90e9982c63ce"
   },
   "outputs": [
    {
     "name": "stdout",
     "output_type": "stream",
     "text": [
      "Please provide your age as a numerical value.\n"
     ]
    }
   ],
   "source": [
    "user_age = 'thirty two'\n",
    "\n",
    "try:\n",
    "\tuser_age_int = int(user_age)\n",
    "except:\n",
    "\tprint('Please provide your age as a numerical value.')"
   ]
  },
  {
   "cell_type": "markdown",
   "metadata": {
    "id": "geo-WB0KW3Ji"
   },
   "source": [
    "# Step 6\n",
    "\n",
    "The management team of Store 1 has asked you to help them organize their customer data for better analysis and management.\n",
    "\n",
    "Your task is to sort this list by user ID in ascending order to facilitate easier access and analysis."
   ]
  },
  {
   "cell_type": "code",
   "execution_count": null,
   "metadata": {
    "colab": {
     "base_uri": "https://localhost:8080/"
    },
    "id": "Re_QlnnLW3Jo",
    "outputId": "8b977bc7-e315-4a27-97ad-645570ed60bc"
   },
   "outputs": [
    {
     "name": "stdout",
     "output_type": "stream",
     "text": [
      "32\n"
     ]
    }
   ],
   "source": [
    "users = [\n",
    "    ['32415', ' mike_reed ', 32.0, ['ELECTRONICS', 'SPORT', 'BOOKS'], [894, 213, 173]],\n",
    "    ['31980', 'kate morgan', 24.0, ['CLOTHES', 'BOOKS'], [439, 390]],\n",
    "    ['32156', ' john doe ', 37.0, ['ELECTRONICS', 'HOME', 'FOOD'], [459, 120, 99]],\n",
    "    ['32761', 'SAMANTHA SMITH', 29.0, ['CLOTHES', 'ELECTRONICS', 'BEAUTY'], [299, 679, 85]],\n",
    "    ['32984', 'David White', 41.0, ['BOOKS', 'HOME', 'SPORT'], [234, 329, 243]],\n",
    "    ['33001', 'emily brown', 26.0, ['BEAUTY', 'HOME', 'FOOD'], [213, 659, 79]],\n",
    "    ['33767', ' Maria Garcia', 33.0, ['CLOTHES', 'FOOD', 'BEAUTY'], [499, 189, 63]],\n",
    "    ['33912', 'JOSE MARTINEZ', 22.0, ['SPORT', 'ELECTRONICS', 'HOME'], [259, 549, 109]],\n",
    "    ['34009', 'lisa wilson ', 35.0, ['HOME', 'BOOKS', 'CLOTHES'], [329, 189, 329]],\n",
    "    ['34278', 'James Lee', 28.0, ['BEAUTY', 'CLOTHES', 'ELECTRONICS'], [189, 299, 579]],\n",
    "]\n",
    "users.sort()\n",
    "\n",
    "print(users)"
   ]
  },
  {
   "cell_type": "markdown",
   "metadata": {
    "id": "VRqEQFJiJm9X"
   },
   "source": [
    "# Step 7\n",
    "\n",
    "We have the information about our user’s spending habits, including the amount spent in each of their favorite categories. Management is interested to know the total amount spent by the user.\n",
    "\n",
    "\n",
    "Let's calculate this value and print it:"
   ]
  },
  {
   "cell_type": "code",
   "execution_count": null,
   "metadata": {
    "colab": {
     "base_uri": "https://localhost:8080/"
    },
    "id": "sjNmuLsQJm9X",
    "outputId": "308483d6-8d3c-4763-9014-7e702307424f"
   },
   "outputs": [
    {
     "name": "stdout",
     "output_type": "stream",
     "text": [
      "1280\n"
     ]
    }
   ],
   "source": [
    "fav_categories_low = ['electronics', 'sport', 'books']\n",
    "spendings_per_category = [894, 213, 173]\n",
    "\n",
    "total_amount = spendings_per_category[0] + spendings_per_category[1] + spendings_per_category[2]\n",
    "\n",
    "\n",
    "print(total_amount)\n"
   ]
  },
  {
   "cell_type": "markdown",
   "metadata": {
    "id": "zP0nVV5FJm9Y"
   },
   "source": [
    "# Step 8\n",
    "\n",
    "The management of the company asked us to come up with a way to summarize all of the information about a user. Your goal is to create a formatted string that uses information from the `user_id`, `user_name` and `user_age` variables.\n",
    "\n",
    "Here is the final string that we want to create: `User 32415 is mike who is 32 years old.`"
   ]
  },
  {
   "cell_type": "code",
   "execution_count": null,
   "metadata": {
    "colab": {
     "base_uri": "https://localhost:8080/"
    },
    "id": "8mlIJr4OJm9Y",
    "outputId": "909d84d1-5723-4676-fb2d-92f8a8c15b7b"
   },
   "outputs": [
    {
     "name": "stdout",
     "output_type": "stream",
     "text": [
      "User 32415 is mike who is 32 years old.\n"
     ]
    }
   ],
   "source": [
    "user_id = '32415'\n",
    "user_name = ['mike', 'reed']\n",
    "user_age = 32\n",
    "\n",
    "user_info = f'User {user_id} is {user_name[0]} who is {user_age} years old.'\n",
    "print(user_info)"
   ]
  },
  {
   "cell_type": "markdown",
   "metadata": {
    "id": "xOj8_G0ZO9mM"
   },
   "source": [
    "# Step 9\n",
    "\n",
    "Management also wants an easy way to know how many client data we have. Your goal is to create a formatted string that will output the amount of client data registered.\n",
    "\n",
    "Here is the final string that we want to create: `We have registered data on X clients.`"
   ]
  },
  {
   "cell_type": "code",
   "execution_count": null,
   "metadata": {
    "colab": {
     "base_uri": "https://localhost:8080/"
    },
    "id": "eGvjS1rkO9mS",
    "outputId": "9e6e7314-2d5c-48a3-a350-58a6485eb040"
   },
   "outputs": [
    {
     "name": "stdout",
     "output_type": "stream",
     "text": [
      "Hemos registrado datos de 10 clientes.\n"
     ]
    }
   ],
   "source": [
    "users = [\n",
    "    ['32415', ' mike_reed ', 32.0, ['ELECTRONICS', 'SPORT', 'BOOKS'], [894, 213, 173]],\n",
    "    ['31980', 'kate morgan', 24.0, ['CLOTHES', 'BOOKS'], [439, 390]],\n",
    "    ['32156', ' john doe ', 37.0, ['ELECTRONICS', 'HOME', 'FOOD'], [459, 120, 99]],\n",
    "    ['32761', 'SAMANTHA SMITH', 29.0, ['CLOTHES', 'ELECTRONICS', 'BEAUTY'], [299, 679, 85]],\n",
    "    ['32984', 'David White', 41.0, ['BOOKS', 'HOME', 'SPORT'], [234, 329, 243]],\n",
    "    ['33001', 'emily brown', 26.0, ['BEAUTY', 'HOME', 'FOOD'], [213, 659, 79]],\n",
    "    ['33767', ' Maria Garcia', 33.0, ['CLOTHES', 'FOOD', 'BEAUTY'], [499, 189, 63]],\n",
    "    ['33912', 'JOSE MARTINEZ', 22.0, ['SPORT', 'ELECTRONICS', 'HOME'], [259, 549, 109]],\n",
    "    ['34009', 'lisa wilson ', 35.0, ['HOME', 'BOOKS', 'CLOTHES'], [329, 189, 329]],\n",
    "    ['34278', 'James Lee', 28.0, ['BEAUTY', 'CLOTHES', 'ELECTRONICS'], [189, 299, 579]],\n",
    "]\n",
    "\n",
    "\n",
    "user_info = f'Hemos registrado datos de {len(users)} clientes.'\n",
    "print(user_info)"
   ]
  },
  {
   "cell_type": "markdown",
   "metadata": {
    "id": "CVVBVYzORu7I"
   },
   "source": [
    "# Step 10\n",
    "\n",
    "Now let's apply all the changes to the client list. We will provide you with a shorter one for the sake of simplicity.\n",
    "You should:\n",
    "1. Remove all leading, trailing spaces from the names, as well as any underscore.\n",
    "2. Convert all the ages to integer.\n",
    "3. Separate all the first names and last names into a sub-list.\n",
    "\n",
    "Save the altered list into a new list called `users_clean`, and then print the new list."
   ]
  },
  {
   "cell_type": "code",
   "execution_count": null,
   "metadata": {
    "colab": {
     "base_uri": "https://localhost:8080/"
    },
    "id": "9qu_k6XURu7O",
    "outputId": "0bfb6d81-56c3-4c21-fa54-aa09b9752082"
   },
   "outputs": [
    {
     "name": "stdout",
     "output_type": "stream",
     "text": [
      "[['32415', ['mike', 'reed'], 32, ['ELECTRONICS', 'SPORT', 'BOOKS'], [894, 213, 173]], ['31980', ['kate', 'morgan'], 24, ['CLOTHES', 'BOOKS'], [439, 390]], ['32156', ['john', 'doe'], 37, ['ELECTRONICS', 'HOME', 'FOOD'], [459, 120, 99]]]\n"
     ]
    }
   ],
   "source": [
    "users = [\n",
    "    ['32415', ' mike_reed ', 32.0, ['ELECTRONICS', 'SPORT', 'BOOKS'], [894, 213, 173]],\n",
    "    ['31980', 'kate morgan', 24.0, ['CLOTHES', 'BOOKS'], [439, 390]],\n",
    "    ['32156', ' john doe ', 37.0, ['ELECTRONICS', 'HOME', 'FOOD'], [459, 120, 99]],\n",
    "]\n",
    "\n",
    "users_clean = []\n",
    "\n",
    "\n",
    "# Process the first user\n",
    "user_name_1 = users[0][1].strip().replace('_', ' ')\n",
    "user_age_1 = int(users[0][2])\n",
    "user_name_1 = user_name_1.split()\n",
    "users_clean.append([users[0][0], user_name_1, user_age_1, users[0][3], users[0][4]])\n",
    "\n",
    "# Process the second user\n",
    "user_name_2 = users[1][1].strip().replace('_', ' ')\n",
    "user_age_2 = int(users[1][2])\n",
    "user_name_2 = user_name_2.split()\n",
    "users_clean.append([users[1][0], user_name_2, user_age_2, users[1][3], users[1][4]])\n",
    "\n",
    "# Process the third user\n",
    "user_name_3 = users[2][1].strip().replace('_', ' ')\n",
    "user_age_3 = int(users[2][2])\n",
    "user_name_3 = user_name_3.split()\n",
    "users_clean.append([users[2][0], user_name_3, user_age_3, users[2][3], users[2][4]])\n",
    "\n",
    "\n",
    "\n",
    "print(users_clean)\n"
   ]
  }
 ],
 "metadata": {
  "colab": {
   "provenance": []
  },
  "kernelspec": {
   "display_name": "Python 3 (ipykernel)",
   "language": "python",
   "name": "python3"
  },
  "language_info": {
   "codemirror_mode": {
    "name": "ipython",
    "version": 3
   },
   "file_extension": ".py",
   "mimetype": "text/x-python",
   "name": "python",
   "nbconvert_exporter": "python",
   "pygments_lexer": "ipython3",
   "version": "3.11.3"
  }
 },
 "nbformat": 4,
 "nbformat_minor": 0
}
